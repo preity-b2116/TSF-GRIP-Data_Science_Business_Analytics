{
 "cells": [
  {
   "cell_type": "markdown",
   "id": "bf15bb23",
   "metadata": {},
   "source": [
    "## The Sparks Foundation : Graduate Rotational Internship Program (GRIP) - Data Science & Business Analytics \n",
    "\n",
    "### Author : Preeti Bodkhe\n",
    "\n",
    "### Task 1 : Prediction using Supervised Machine Learning"
   ]
  },
  {
   "cell_type": "markdown",
   "id": "05735f44",
   "metadata": {},
   "source": [
    "    Problem Statement - \n",
    "    ◙ Predict percentage of a student based on the number of study hours. \n",
    "    ◙ What will be the predicted score if a student studies for 9.25 hrs./day?\n",
    "    \n",
    "    Solution -\n",
    "    Here we are using Simple Linear Regression algorithm as the data consists of just 2 variables, one is dependent (Y) and other is independent (X) variable. \n",
    "\n",
    "    Steps followed to predict the outcome -\n",
    "    ◙ Step 1 - Importing the required libraries  \n",
    "    ◙ Step 2 - Importing the data set\n",
    "    ◙ Step 3 - Exploring and understanding the data  \n",
    "    ◙ Step 4 - Fitting the Linear Regression model by OLS method\n",
    "    ◙ Step 5 - Plotting Best fit line \n",
    "    ◙ Step 6 - Validating the relationship between X & Y variable \n",
    "    ◙ Step 7 - Evaluating the model \n",
    "    ◙ Step 8 - Predictions "
   ]
  },
  {
   "cell_type": "markdown",
   "id": "e00cfac0",
   "metadata": {},
   "source": [
    "#### Step 1 - Importing the required laibraries "
   ]
  },
  {
   "cell_type": "code",
   "execution_count": 1,
   "id": "a0e22e87",
   "metadata": {},
   "outputs": [],
   "source": [
    "import pandas as pd\n",
    "import seaborn as sns\n",
    "import statsmodels.formula.api as smf\n",
    "import matplotlib.pyplot as plt"
   ]
  },
  {
   "cell_type": "markdown",
   "id": "d0a88e32",
   "metadata": {},
   "source": [
    "#### Step 2 - Importing the data set"
   ]
  },
  {
   "cell_type": "code",
   "execution_count": 2,
   "id": "36d3aba1",
   "metadata": {},
   "outputs": [],
   "source": [
    "data = pd.read_csv(\"https://raw.githubusercontent.com/AdiPersonalWorks/Random/master/student_scores%20-%20student_scores.csv\")"
   ]
  },
  {
   "cell_type": "code",
   "execution_count": 3,
   "id": "0ed67ab5",
   "metadata": {},
   "outputs": [
    {
     "data": {
      "text/html": [
       "<div>\n",
       "<style scoped>\n",
       "    .dataframe tbody tr th:only-of-type {\n",
       "        vertical-align: middle;\n",
       "    }\n",
       "\n",
       "    .dataframe tbody tr th {\n",
       "        vertical-align: top;\n",
       "    }\n",
       "\n",
       "    .dataframe thead th {\n",
       "        text-align: right;\n",
       "    }\n",
       "</style>\n",
       "<table border=\"1\" class=\"dataframe\">\n",
       "  <thead>\n",
       "    <tr style=\"text-align: right;\">\n",
       "      <th></th>\n",
       "      <th>Hours</th>\n",
       "      <th>Scores</th>\n",
       "    </tr>\n",
       "  </thead>\n",
       "  <tbody>\n",
       "    <tr>\n",
       "      <th>0</th>\n",
       "      <td>2.5</td>\n",
       "      <td>21</td>\n",
       "    </tr>\n",
       "    <tr>\n",
       "      <th>1</th>\n",
       "      <td>5.1</td>\n",
       "      <td>47</td>\n",
       "    </tr>\n",
       "    <tr>\n",
       "      <th>2</th>\n",
       "      <td>3.2</td>\n",
       "      <td>27</td>\n",
       "    </tr>\n",
       "    <tr>\n",
       "      <th>3</th>\n",
       "      <td>8.5</td>\n",
       "      <td>75</td>\n",
       "    </tr>\n",
       "    <tr>\n",
       "      <th>4</th>\n",
       "      <td>3.5</td>\n",
       "      <td>30</td>\n",
       "    </tr>\n",
       "  </tbody>\n",
       "</table>\n",
       "</div>"
      ],
      "text/plain": [
       "   Hours  Scores\n",
       "0    2.5      21\n",
       "1    5.1      47\n",
       "2    3.2      27\n",
       "3    8.5      75\n",
       "4    3.5      30"
      ]
     },
     "execution_count": 3,
     "metadata": {},
     "output_type": "execute_result"
    }
   ],
   "source": [
    "data.head()"
   ]
  },
  {
   "cell_type": "markdown",
   "id": "71a4d17b",
   "metadata": {},
   "source": [
    "As per the problem statement we need to predict the Score for students on the basis of their study hours hence our 'X' variable here would be 'Hours' and 'Y' variable would be 'Scores' "
   ]
  },
  {
   "cell_type": "markdown",
   "id": "78573503",
   "metadata": {},
   "source": [
    "#### Step 3 - Exploring and understanding the data"
   ]
  },
  {
   "cell_type": "code",
   "execution_count": 4,
   "id": "b0f33868",
   "metadata": {},
   "outputs": [
    {
     "name": "stdout",
     "output_type": "stream",
     "text": [
      "<class 'pandas.core.frame.DataFrame'>\n",
      "RangeIndex: 25 entries, 0 to 24\n",
      "Data columns (total 2 columns):\n",
      " #   Column  Non-Null Count  Dtype  \n",
      "---  ------  --------------  -----  \n",
      " 0   Hours   25 non-null     float64\n",
      " 1   Scores  25 non-null     int64  \n",
      "dtypes: float64(1), int64(1)\n",
      "memory usage: 528.0 bytes\n"
     ]
    }
   ],
   "source": [
    "data.info()"
   ]
  },
  {
   "cell_type": "code",
   "execution_count": 5,
   "id": "098ea5d7",
   "metadata": {},
   "outputs": [
    {
     "data": {
      "text/html": [
       "<div>\n",
       "<style scoped>\n",
       "    .dataframe tbody tr th:only-of-type {\n",
       "        vertical-align: middle;\n",
       "    }\n",
       "\n",
       "    .dataframe tbody tr th {\n",
       "        vertical-align: top;\n",
       "    }\n",
       "\n",
       "    .dataframe thead th {\n",
       "        text-align: right;\n",
       "    }\n",
       "</style>\n",
       "<table border=\"1\" class=\"dataframe\">\n",
       "  <thead>\n",
       "    <tr style=\"text-align: right;\">\n",
       "      <th></th>\n",
       "      <th>Hours</th>\n",
       "      <th>Scores</th>\n",
       "    </tr>\n",
       "  </thead>\n",
       "  <tbody>\n",
       "    <tr>\n",
       "      <th>Hours</th>\n",
       "      <td>1.000000</td>\n",
       "      <td>0.976191</td>\n",
       "    </tr>\n",
       "    <tr>\n",
       "      <th>Scores</th>\n",
       "      <td>0.976191</td>\n",
       "      <td>1.000000</td>\n",
       "    </tr>\n",
       "  </tbody>\n",
       "</table>\n",
       "</div>"
      ],
      "text/plain": [
       "           Hours    Scores\n",
       "Hours   1.000000  0.976191\n",
       "Scores  0.976191  1.000000"
      ]
     },
     "execution_count": 5,
     "metadata": {},
     "output_type": "execute_result"
    }
   ],
   "source": [
    "data.corr()"
   ]
  },
  {
   "cell_type": "code",
   "execution_count": 6,
   "id": "1bd89d81",
   "metadata": {},
   "outputs": [
    {
     "name": "stderr",
     "output_type": "stream",
     "text": [
      "C:\\Users\\DELL1\\anaconda3\\lib\\site-packages\\seaborn\\distributions.py:2557: FutureWarning: `distplot` is a deprecated function and will be removed in a future version. Please adapt your code to use either `displot` (a figure-level function with similar flexibility) or `histplot` (an axes-level function for histograms).\n",
      "  warnings.warn(msg, FutureWarning)\n"
     ]
    },
    {
     "data": {
      "text/plain": [
       "<AxesSubplot:xlabel='Hours', ylabel='Density'>"
      ]
     },
     "execution_count": 6,
     "metadata": {},
     "output_type": "execute_result"
    },
    {
     "data": {
      "image/png": "[encoded data removed]",
      "text/plain": [
       "<Figure size 432x288 with 1 Axes>"
      ]
     },
     "metadata": {
      "needs_background": "light"
     },
     "output_type": "display_data"
    }
   ],
   "source": [
    "sns.distplot(data['Hours'])"
   ]
  },
  {
   "cell_type": "code",
   "execution_count": 7,
   "id": "1631513b",
   "metadata": {},
   "outputs": [
    {
     "data": {
      "text/plain": [
       "<AxesSubplot:>"
      ]
     },
     "execution_count": 7,
     "metadata": {},
     "output_type": "execute_result"
    },
    {
     "data": {
      "image/png": "[encoded data removed]",
      "text/plain": [
       "<Figure size 432x288 with 1 Axes>"
      ]
     },
     "metadata": {
      "needs_background": "light"
     },
     "output_type": "display_data"
    }
   ],
   "source": [
    "#Box plot \n",
    "data.boxplot(column=['Hours'])"
   ]
  },
  {
   "cell_type": "markdown",
   "id": "f8bb632e",
   "metadata": {},
   "source": [
    "There are no outliers in Hours column.\n",
    "\n",
    "An outlier is an unusually large or small observation. Outliers can have a disproportionate effect on statistical results and it may have a big effect on the slope of the regression line. Hence it is necessary for us to detect and deal with the outliers in the data in case if any."
   ]
  },
  {
   "cell_type": "code",
   "execution_count": 8,
   "id": "ad773303",
   "metadata": {},
   "outputs": [
    {
     "name": "stderr",
     "output_type": "stream",
     "text": [
      "C:\\Users\\DELL1\\anaconda3\\lib\\site-packages\\seaborn\\distributions.py:2557: FutureWarning: `distplot` is a deprecated function and will be removed in a future version. Please adapt your code to use either `displot` (a figure-level function with similar flexibility) or `histplot` (an axes-level function for histograms).\n",
      "  warnings.warn(msg, FutureWarning)\n"
     ]
    },
    {
     "data": {
      "text/plain": [
       "<AxesSubplot:xlabel='Scores', ylabel='Density'>"
      ]
     },
     "execution_count": 8,
     "metadata": {},
     "output_type": "execute_result"
    },
    {
     "data": {
      "image/png": "[encoded data removed]",
      "text/plain": [
       "<Figure size 432x288 with 1 Axes>"
      ]
     },
     "metadata": {
      "needs_background": "light"
     },
     "output_type": "display_data"
    }
   ],
   "source": [
    "sns.distplot(data['Scores'])"
   ]
  },
  {
   "cell_type": "code",
   "execution_count": 9,
   "id": "795d8595",
   "metadata": {},
   "outputs": [
    {
     "data": {
      "text/plain": [
       "<AxesSubplot:>"
      ]
     },
     "execution_count": 9,
     "metadata": {},
     "output_type": "execute_result"
    },
    {
     "data": {
      "image/png": "[encoded data removed]",
      "text/plain": [
       "<Figure size 432x288 with 1 Axes>"
      ]
     },
     "metadata": {
      "needs_background": "light"
     },
     "output_type": "display_data"
    }
   ],
   "source": [
    "#Box plot \n",
    "data.boxplot(column=['Scores'])"
   ]
  },
  {
   "cell_type": "markdown",
   "id": "67f2f04c",
   "metadata": {},
   "source": [
    "There are no outliers in Scores column as well"
   ]
  },
  {
   "cell_type": "code",
   "execution_count": 9,
   "id": "b8357a9f",
   "metadata": {},
   "outputs": [
    {
     "data": {
      "image/png": "[encoded data removed]",
      "text/plain": [
       "<Figure size 432x288 with 1 Axes>"
      ]
     },
     "metadata": {
      "needs_background": "light"
     },
     "output_type": "display_data"
    }
   ],
   "source": [
    "plt.scatter(data.Hours, data.Scores, c='green', linewidths = 1, marker =\".\", edgecolor =\"black\", s = 400)\n",
    "plt.title(\"Hours Sudied vs Percentage Scored\")\n",
    "plt.xlabel(\"Hours\")\n",
    "plt.ylabel(\"Scores\")\n",
    "plt.grid()\n",
    "plt.show()"
   ]
  },
  {
   "cell_type": "markdown",
   "id": "9541aca5",
   "metadata": {},
   "source": [
    "#### Step 4 - Fitting the Linear Regression model by OLS method"
   ]
  },
  {
   "cell_type": "code",
   "execution_count": 10,
   "id": "64aafb75",
   "metadata": {},
   "outputs": [
    {
     "name": "stdout",
     "output_type": "stream",
     "text": [
      "                            OLS Regression Results                            \n",
      "==============================================================================\n",
      "Dep. Variable:                 Scores   R-squared:                       0.953\n",
      "Model:                            OLS   Adj. R-squared:                  0.951\n",
      "Method:                 Least Squares   F-statistic:                     465.8\n",
      "Date:                Sun, 19 Sep 2021   Prob (F-statistic):           9.13e-17\n",
      "Time:                        13:35:00   Log-Likelihood:                -77.514\n",
      "No. Observations:                  25   AIC:                             159.0\n",
      "Df Residuals:                      23   BIC:                             161.5\n",
      "Df Model:                           1                                         \n",
      "Covariance Type:            nonrobust                                         \n",
      "==============================================================================\n",
      "                 coef    std err          t      P>|t|      [0.025      0.975]\n",
      "------------------------------------------------------------------------------\n",
      "Intercept      2.4837      2.532      0.981      0.337      -2.753       7.721\n",
      "Hours          9.7758      0.453     21.583      0.000       8.839      10.713\n",
      "==============================================================================\n",
      "Omnibus:                        7.616   Durbin-Watson:                   1.460\n",
      "Prob(Omnibus):                  0.022   Jarque-Bera (JB):                2.137\n",
      "Skew:                          -0.216   Prob(JB):                        0.343\n",
      "Kurtosis:                       1.634   Cond. No.                         13.0\n",
      "==============================================================================\n",
      "\n",
      "Notes:\n",
      "[1] Standard Errors assume that the covariance matrix of the errors is correctly specified.\n"
     ]
    }
   ],
   "source": [
    "# Here we are using Ordinary least-squares method to fit the model providing Y variable ~ X variable   \n",
    "model = smf.ols(\"Scores~Hours\",data = data).fit()\n",
    "print(model.summary())"
   ]
  },
  {
   "cell_type": "markdown",
   "id": "2a26d79b",
   "metadata": {},
   "source": [
    "#### Step 5 - Plotting Best fit line "
   ]
  },
  {
   "cell_type": "code",
   "execution_count": 11,
   "id": "b1843b7b",
   "metadata": {},
   "outputs": [
    {
     "data": {
      "text/plain": [
       "<AxesSubplot:xlabel='Hours', ylabel='Scores'>"
      ]
     },
     "execution_count": 11,
     "metadata": {},
     "output_type": "execute_result"
    },
    {
     "data": {
      "image/png": "[encoded data removed]",
      "text/plain": [
       "<Figure size 432x288 with 1 Axes>"
      ]
     },
     "metadata": {
      "needs_background": "light"
     },
     "output_type": "display_data"
    }
   ],
   "source": [
    "# Plotting the best representative line for all the data points determined by OLS (Ordinary least-squares) method above \n",
    "sns.regplot(x=\"Hours\", y=\"Scores\", data=data)"
   ]
  },
  {
   "cell_type": "markdown",
   "id": "afa4a347",
   "metadata": {},
   "source": [
    "A line of best fit is a straight line drawn through the maximum number of points on a scatter plot balancing about an equal number of points above and below the line. It is used to study the nature of relation between two variables."
   ]
  },
  {
   "cell_type": "markdown",
   "id": "122479d7",
   "metadata": {},
   "source": [
    "#### Step 6 - Validating the relationship betweeb X & Y variable"
   ]
  },
  {
   "cell_type": "code",
   "execution_count": 12,
   "id": "86b52b07",
   "metadata": {},
   "outputs": [
    {
     "data": {
      "text/plain": [
       "Intercept    2.483673\n",
       "Hours        9.775803\n",
       "dtype: float64"
      ]
     },
     "execution_count": 12,
     "metadata": {},
     "output_type": "execute_result"
    }
   ],
   "source": [
    "#coefficient / Model parameters \n",
    "model.params"
   ]
  },
  {
   "cell_type": "markdown",
   "id": "8546b54a",
   "metadata": {},
   "source": [
    "As per the formula of Linear Regression ŷ = b0 + b1x here we are getting the value of b0 as an Intercept and b1 as Hours. Hence the final formula to predict Y (Scores) for any given value of x (Study hours) becomes,  ŷ = 2.483673 + 9.775803(x)"
   ]
  },
  {
   "cell_type": "markdown",
   "id": "f85e4247",
   "metadata": {},
   "source": [
    "Simultaneously, the algorithm here is also checking the Hypothesis test which is as follows, \n",
    "Null Hypothesis H0 : b1 = 0 (there is no influence of X varivable on predicting ŷ)\n",
    "Alternate Hypotheis Ha : b1 ≠ 0 (there is an influence of X varivable on predicting ŷ)\n",
    "    \n",
    "If b1 is 0 then there wouldn't be any influence of X varivable on predicting ŷ (as per the formula of Linear Regression:  ŷ = b0 + b1x) hence it is simultaneously very necessary to check the above Hypothesis Test. \n",
    "\n",
    "Comparing the p value with α value (0.05) we can decide if to reject null hypothesis or accept null hypothesis. \n",
    "\n",
    "The condition is if p value < α value : We reject null hypothesis H0 & if p value > α value : We fail to reject null hypothesis H0, means we accept H0"
   ]
  },
  {
   "cell_type": "code",
   "execution_count": 13,
   "id": "c3bb995b",
   "metadata": {},
   "outputs": [
    {
     "name": "stdout",
     "output_type": "stream",
     "text": [
      "Intercept     0.981044\n",
      "Hours        21.582931\n",
      "dtype: float64 \n",
      " Intercept    3.367785e-01\n",
      "Hours        9.132624e-17\n",
      "dtype: float64\n"
     ]
    }
   ],
   "source": [
    "#t & p-values \n",
    "print(model.tvalues, '\\n', model.pvalues)"
   ]
  },
  {
   "cell_type": "markdown",
   "id": "3eeb22fa",
   "metadata": {},
   "source": [
    "Looking at the p value (9.132624e-17 = almost 0) above we can clearly say that p value < α value (9.132624e-17 < 0.05) and hence we can reject the null hypothesis, which means there is an influence of X varivable on predicting ŷ."
   ]
  },
  {
   "cell_type": "markdown",
   "id": "2f56cea3",
   "metadata": {},
   "source": [
    "#### Step 7 - Evaluating the model "
   ]
  },
  {
   "cell_type": "code",
   "execution_count": 14,
   "id": "dd197031",
   "metadata": {},
   "outputs": [
    {
     "data": {
      "text/plain": [
       "0.9529481969048356"
      ]
     },
     "execution_count": 14,
     "metadata": {},
     "output_type": "execute_result"
    }
   ],
   "source": [
    "#R squared values (Coefficient of determination) ranges from 0 to 1\n",
    "(model.rsquared)"
   ]
  },
  {
   "cell_type": "markdown",
   "id": "60b97062",
   "metadata": {},
   "source": [
    "Looking at the R^2 value we can say that the model is performing Very Good in predicting the Y variable"
   ]
  },
  {
   "cell_type": "markdown",
   "id": "2e7a6da6",
   "metadata": {},
   "source": [
    "#### Step 8 - Predictions "
   ]
  },
  {
   "cell_type": "code",
   "execution_count": 15,
   "id": "7f968eec",
   "metadata": {},
   "outputs": [
    {
     "data": {
      "text/plain": [
       "0    92.909855\n",
       "dtype: float64"
      ]
     },
     "execution_count": 15,
     "metadata": {},
     "output_type": "execute_result"
    }
   ],
   "source": [
    "hours = pd.Series([9.25])\n",
    "data_pred = pd.DataFrame(hours, columns=['Hours'])\n",
    "model.predict(data_pred)"
   ]
  },
  {
   "cell_type": "markdown",
   "id": "5072f934",
   "metadata": {},
   "source": [
    "Looking at the prediction above we can say that the prdicted score / percentage for the student who studied for 9.25 hours is 92.90%"
   ]
  }
 ],
 "metadata": {
  "celltoolbar": "Raw Cell Format",
  "kernelspec": {
   "display_name": "Python 3",
   "language": "python",
   "name": "python3"
  },
  "language_info": {
   "codemirror_mode": {
    "name": "ipython",
    "version": 3
   },
   "file_extension": ".py",
   "mimetype": "text/x-python",
   "name": "python",
   "nbconvert_exporter": "python",
   "pygments_lexer": "ipython3",
   "version": "3.8.8"
  }
 },
 "nbformat": 4,
 "nbformat_minor": 5
}
